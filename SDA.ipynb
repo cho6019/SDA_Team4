{
 "cells": [
  {
   "cell_type": "code",
   "execution_count": 1,
   "id": "c27c43af-407a-446a-b843-485ea596b511",
   "metadata": {},
   "outputs": [],
   "source": [
    "# testing"
   ]
  },
  {
   "cell_type": "code",
   "execution_count": 2,
   "id": "44286069-fe8d-4f97-9c10-046c87f6b171",
   "metadata": {},
   "outputs": [],
   "source": [
    "# hello"
   ]
  },
  {
   "cell_type": "code",
   "execution_count": null,
   "id": "1b7497af-2484-40af-8680-5c31426fb8d1",
   "metadata": {},
   "outputs": [],
   "source": [
    "#Jiun"
   ]
  }
 ],
 "metadata": {
  "kernelspec": {
   "display_name": "sda",
   "language": "python",
   "name": "sda2024"
  },
  "language_info": {
   "codemirror_mode": {
    "name": "ipython",
    "version": 3
   },
   "file_extension": ".py",
   "mimetype": "text/x-python",
   "name": "python",
   "nbconvert_exporter": "python",
   "pygments_lexer": "ipython3",
   "version": "3.8.18"
  }
 },
 "nbformat": 4,
 "nbformat_minor": 5
}
