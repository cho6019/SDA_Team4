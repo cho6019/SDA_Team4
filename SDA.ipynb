{
 "cells": [
  {
   "cell_type": "code",
   "execution_count": 1,
   "id": "04087187",
   "metadata": {},
   "outputs": [],
   "source": [
    "# SDA_과제#5_4조(신지운, 민영은, 장동규, 조민규)\n",
    "# ONLY PULL AND PUSH 'SDA.ipynb'!\n",
    "# 작업 후 Stash란 Summary에 성명을, Description에 작업 내용을 간단하게 요약해서 Commit 해주세요"
   ]
  },
  {
   "cell_type": "code",
   "execution_count": 2,
   "id": "3bd9c719",
   "metadata": {},
   "outputs": [],
   "source": [
    "# About Project\n",
    "# 프로젝트 목표 : 미세먼지 농도의 변화는 대중교통 이용률에 영향을 미치는가?\n",
    "\n",
    "# 각 Page별 목적을 여기에 간단히 정리해주세요\n",
    "# Page는 항상 EDA - 가설검정 - 회귀분석 순서로 내림차순 정렬을 유지해주세요\n",
    "\n",
    "# Page0 - 필요 패키지 설치\n",
    "# Page1 - 데이터 년도 선정 과정 및 이유\n",
    "# Page2 - 데이터 준비(미세먼지, 대중교통이용인원 데이터 필터링, column생성 및 데이터 병합 등)\n",
    "# Page3 - \n",
    "# Page4 - \n",
    "# Page5 - \n",
    "# Page6 - \n",
    "# Page7 - \n",
    "# Page8 - \n",
    "# Page9 - "
   ]
  },
  {
   "cell_type": "code",
   "execution_count": 3,
   "id": "b9563ac6",
   "metadata": {},
   "outputs": [],
   "source": [
    "# Page0\n",
    "# import package here!\n",
    "\n",
    "import numpy as np\n",
    "import matplotlib.pyplot as plt\n",
    "import matplotlib as mpl\n",
    "import pandas as pd\n",
    "import seaborn as sns"
   ]
  },
  {
   "cell_type": "code",
   "execution_count": 4,
   "id": "4ed3e220-2d73-465f-a995-f203938c8bde",
   "metadata": {},
   "outputs": [
    {
     "data": {
      "image/png": "[encoded data removed]",
      "text/plain": [
       "<Figure size 640x480 with 1 Axes>"
      ]
     },
     "metadata": {},
     "output_type": "display_data"
    },
    {
     "name": "stdout",
     "output_type": "stream",
     "text": [
      "2023년 1월~8월 서울시 월별 코로나 평균 확진자 수: 136203 명\n"
     ]
    }
   ],
   "source": [
    "# Page1 - 데이터 년도 선정 과정 및 이유\n",
    "\n",
    "# 코로나가 대중교통량에 영향을 줄 수도 있다고 판단\n",
    "# 코로나 국내 첫 감염자 발생 날짜(2020-01-19), 사회적 거리두기 종료 날짜(2022-04-18) 고려\n",
    "# 코로나 발생 전 연도인 2019년과 사회적 거리두기 종료 후 다음 년도인 2023년 둘 중 하나 선택\n",
    "# 2023년도 서울시 월 평균 코로나 확진자 수를 확인 후 결정\n",
    "\n",
    "# 2023년도 서울시 1~8월 확진자수 확인(23년 9월부터 코로나 감염병이 4급으로 전환됨에 따라 데이터 업데이트 중단)\n",
    "data_covid = pd.read_csv(\"질병관리청_코로나19 시군구별 월별 확진자 및 사망 발생 현황_20230831.csv\")\n",
    "seoul_covid = data_covid.iloc[1,42:50].values\n",
    "months = ['1월', '2월', '3월', '4월', '5월', '6월', '7월', '8월']\n",
    "seoul_covid_df = pd.DataFrame({'월': months, '확진자 수': [int(val.replace(',', '')) for val in seoul_covid]})\n",
    "mpl.rcParams['font.family'] = 'NanumGothic'\n",
    "sns.barplot(data=seoul_covid_df,x=\"월\",y=\"확진자 수\",hue=\"월\")\n",
    "plt.title(\"2023년 1월~8월 서울시 월별 코로나 확진자 수\")\n",
    "plt.yticks(ticks=range(0, 300001, 50000),labels=['0', '5만', '10만', '15만', '20만', '25만', '30만'])\n",
    "plt.show()\n",
    "print(\"2023년 1월~8월 서울시 월별 코로나 평균 확진자 수:\",round(seoul_covid_df[\"확진자 수\"].mean()),\"명\")\n",
    "\n",
    "# 2023년 1월~8월 서울시 월별 평균 확진자 수: 136203\n",
    "# 2023년 월평균 확진자 수가 13만명 이기에 2023년도 데이터가 아닌 2019년도 데이터로 결정"
   ]
  },
  {
   "cell_type": "code",
   "execution_count": 5,
   "id": "b1e26739-15b2-40f0-a6f9-dfdcd43c3614",
   "metadata": {},
   "outputs": [
    {
     "name": "stdout",
     "output_type": "stream",
     "text": [
      "**19년도 서울시 자치구별, 시간별 미세먼지 데이터\n",
      "                      일시   구분  미세먼지(PM10)  초미세먼지(PM25)\n",
      "0       2019-12-31 23:00   평균        23.0         15.0\n",
      "1       2019-12-31 23:00  강남구        19.0         15.0\n",
      "2       2019-12-31 23:00  강동구        25.0         18.0\n",
      "3       2019-12-31 23:00  강북구        25.0         16.0\n",
      "4       2019-12-31 23:00  강서구        29.0         17.0\n",
      "...                  ...  ...         ...          ...\n",
      "227755   2019-01-01 0:00  용산구        31.0         22.0\n",
      "227756   2019-01-01 0:00  은평구        35.0         23.0\n",
      "227757   2019-01-01 0:00  종로구        36.0         21.0\n",
      "227758   2019-01-01 0:00   중구        39.0         26.0\n",
      "227759   2019-01-01 0:00  중랑구        36.0         26.0\n",
      "\n",
      "[227760 rows x 4 columns]\n",
      "\n",
      "**대중교통 운행 시간을 고려한 19년도 서울시 일별 미세먼지 데이터\n",
      "             날짜  미세먼지(PM10)  초미세먼지(PM25)\n",
      "0    2019-01-01       37.45        24.55\n",
      "1    2019-01-02       35.55        22.90\n",
      "2    2019-01-03       39.95        24.20\n",
      "3    2019-01-04       61.05        42.25\n",
      "4    2019-01-05       54.85        31.35\n",
      "..          ...         ...          ...\n",
      "360  2019-12-27       34.80        23.65\n",
      "361  2019-12-28       43.65        25.85\n",
      "362  2019-12-29       44.30        27.10\n",
      "363  2019-12-30       37.95        26.45\n",
      "364  2019-12-31       22.55        13.65\n",
      "\n",
      "[365 rows x 3 columns]\n",
      "\n",
      "**미세먼지 농도에 따라 범주화\n",
      "             날짜  미세먼지(PM10)  초미세먼지(PM25) 미세먼지 등급 초미세먼지 등급\n",
      "0    2019-01-01       37.45        24.55      보통       보통\n",
      "1    2019-01-02       35.55        22.90      보통       보통\n",
      "2    2019-01-03       39.95        24.20      보통       보통\n",
      "3    2019-01-04       61.05        42.25      보통       나쁨\n",
      "4    2019-01-05       54.85        31.35      보통       보통\n",
      "..          ...         ...          ...     ...      ...\n",
      "360  2019-12-27       34.80        23.65      보통       보통\n",
      "361  2019-12-28       43.65        25.85      보통       보통\n",
      "362  2019-12-29       44.30        27.10      보통       보통\n",
      "363  2019-12-30       37.95        26.45      보통       보통\n",
      "364  2019-12-31       22.55        13.65      좋음       좋음\n",
      "\n",
      "[365 rows x 5 columns]\n",
      "\n",
      "**19년도 서울시 대중교통이용인원\n",
      "            날짜  대중교통이용인원\n",
      "0   2019-01-01   2165112\n",
      "1   2019-01-02   4050250\n",
      "2   2019-01-03   4137024\n",
      "3   2019-01-04   4321215\n",
      "4   2019-01-05   3315725\n",
      "..         ...       ...\n",
      "360 2019-12-27   4502557\n",
      "361 2019-12-28   3547620\n",
      "362 2019-12-29   2786429\n",
      "363 2019-12-30   4230893\n",
      "364 2019-12-31   4111322\n",
      "\n",
      "[365 rows x 2 columns]\n",
      "\n",
      "**미세먼지, 대중교통이용인원 데이터 병합\n",
      "            날짜  미세먼지(PM10)  초미세먼지(PM25) 미세먼지 등급 초미세먼지 등급  대중교통이용인원\n",
      "0   2019-01-01       37.45        24.55      보통       보통   2165112\n",
      "1   2019-01-02       35.55        22.90      보통       보통   4050250\n",
      "2   2019-01-03       39.95        24.20      보통       보통   4137024\n",
      "3   2019-01-04       61.05        42.25      보통       나쁨   4321215\n",
      "4   2019-01-05       54.85        31.35      보통       보통   3315725\n",
      "..         ...         ...          ...     ...      ...       ...\n",
      "360 2019-12-27       34.80        23.65      보통       보통   4502557\n",
      "361 2019-12-28       43.65        25.85      보통       보통   3547620\n",
      "362 2019-12-29       44.30        27.10      보통       보통   2786429\n",
      "363 2019-12-30       37.95        26.45      보통       보통   4230893\n",
      "364 2019-12-31       22.55        13.65      좋음       좋음   4111322\n",
      "\n",
      "[365 rows x 6 columns]\n",
      "\n",
      "**평일과 주말(토,일)을 구분하기 위한 요일 column, 요일 구분 column추가\n",
      "            날짜  미세먼지(PM10)  초미세먼지(PM25) 미세먼지 등급 초미세먼지 등급  대중교통이용인원   요일 요일구분\n",
      "0   2019-01-01       37.45        24.55      보통       보통   2165112  화요일   평일\n",
      "1   2019-01-02       35.55        22.90      보통       보통   4050250  수요일   평일\n",
      "2   2019-01-03       39.95        24.20      보통       보통   4137024  목요일   평일\n",
      "3   2019-01-04       61.05        42.25      보통       나쁨   4321215  금요일   평일\n",
      "4   2019-01-05       54.85        31.35      보통       보통   3315725  토요일   주말\n",
      "..         ...         ...          ...     ...      ...       ...  ...  ...\n",
      "360 2019-12-27       34.80        23.65      보통       보통   4502557  금요일   평일\n",
      "361 2019-12-28       43.65        25.85      보통       보통   3547620  토요일   주말\n",
      "362 2019-12-29       44.30        27.10      보통       보통   2786429  일요일   주말\n",
      "363 2019-12-30       37.95        26.45      보통       보통   4230893  월요일   평일\n",
      "364 2019-12-31       22.55        13.65      좋음       좋음   4111322  화요일   평일\n",
      "\n",
      "[365 rows x 8 columns] \n",
      "\n"
     ]
    },
    {
     "data": {
      "image/png": "[encoded data removed]",
      "text/plain": [
       "<Figure size 640x480 with 1 Axes>"
      ]
     },
     "metadata": {},
     "output_type": "display_data"
    },
    {
     "name": "stdout",
     "output_type": "stream",
     "text": [
      "공휴일 평균 대중교통이용 인원: 1964737\n",
      "공휴일이 아닌 평균 대중교통이용 인원: 3969462\n",
      "공휴일이 공휴일이 아닌 평균 대중교통 이용 인원의 약 0.49 배 이기 때문에 공휴일 데이터를 제외\n",
      "\n",
      "**주말 데이터\n",
      "            날짜  미세먼지(PM10)  초미세먼지(PM25) 미세먼지 등급 초미세먼지 등급  대중교통이용인원   요일 요일구분\n",
      "4   2019-01-05       54.85        31.35      보통       보통   3315725  토요일   주말\n",
      "5   2019-01-06       49.10        23.70      보통       보통   2634494  일요일   주말\n",
      "11  2019-01-12       96.20        69.50      나쁨       나쁨   3395141  토요일   주말\n",
      "12  2019-01-13      116.50        83.80      나쁨     매우나쁨   2648590  일요일   주말\n",
      "18  2019-01-19       94.80        66.45      나쁨       나쁨   3388418  토요일   주말\n",
      "..         ...         ...          ...     ...      ...       ...  ...  ...\n",
      "348 2019-12-15       36.95        25.00      보통       보통   2884442  일요일   주말\n",
      "354 2019-12-21       35.45        24.30      보통       보통   3757491  토요일   주말\n",
      "355 2019-12-22       60.40        45.20      보통       나쁨   2966833  일요일   주말\n",
      "361 2019-12-28       43.65        25.85      보통       보통   3547620  토요일   주말\n",
      "362 2019-12-29       44.30        27.10      보통       보통   2786429  일요일   주말\n",
      "\n",
      "[104 rows x 8 columns]\n",
      "\n",
      "**평일 데이터\n",
      "            날짜  미세먼지(PM10)  초미세먼지(PM25) 미세먼지 등급 초미세먼지 등급  대중교통이용인원   요일 요일구분\n",
      "1   2019-01-02       35.55        22.90      보통       보통   4050250  수요일   평일\n",
      "2   2019-01-03       39.95        24.20      보통       보통   4137024  목요일   평일\n",
      "3   2019-01-04       61.05        42.25      보통       나쁨   4321215  금요일   평일\n",
      "6   2019-01-07       59.35        39.00      보통       나쁨   4123798  월요일   평일\n",
      "7   2019-01-08       42.30        18.20      보통       보통   4142121  화요일   평일\n",
      "..         ...         ...          ...     ...      ...       ...  ...  ...\n",
      "358 2019-12-25       50.00        36.65      보통       나쁨   2967684  수요일   평일\n",
      "359 2019-12-26       49.65        34.45      보통       보통   4350290  목요일   평일\n",
      "360 2019-12-27       34.80        23.65      보통       보통   4502557  금요일   평일\n",
      "363 2019-12-30       37.95        26.45      보통       보통   4230893  월요일   평일\n",
      "364 2019-12-31       22.55        13.65      좋음       좋음   4111322  화요일   평일\n",
      "\n",
      "[258 rows x 8 columns]\n"
     ]
    }
   ],
   "source": [
    "# Page2 - 데이터 준비(미세먼지, 대중교통이용인원 데이터 필터링, column생성 및 데이터 병합 등)\n",
    "\n",
    "# 19년도 서울시 자치구별, 시간별 미세먼지 데이터 준비\n",
    "air_df = pd.read_csv(\"서울시 대기질 자료 제공_2016-2019.csv\")\n",
    "air_df_19 = air_df[air_df['일시'].str.startswith('2019')].copy()\n",
    "print(\"**19년도 서울시 자치구별, 시간별 미세먼지 데이터\")\n",
    "print(air_df_19)\n",
    "\n",
    "# 하루 미세먼지 농도를 모든 시간대의 평균값으로 사용?\n",
    "# 대중교통은 새벽 시간대 운행 X, 첫차 시간과 막차 시간을 고려해서 새벽시간대의 미세먼지 데이터를 거거\n",
    "# 나머지 시간대(05~24시)의 미세먼지 데이터의 평균 값을 하루 미세먼지의 값으로 사용\n",
    "air_df_19['시간'] = pd.to_datetime(air_df_19['일시']).dt.hour.copy()\n",
    "air_df_19 = air_df_19[(air_df_19['시간'] >= 5) | (air_df_19['시간'] == 0)]\n",
    "air_df_19 = air_df_19[air_df_19[\"구분\"] == \"평균\"].copy()\n",
    "air_df_19['날짜'] = pd.to_datetime(air_df_19['일시']).dt.date\n",
    "air_df_19 = air_df_19.groupby(['구분', '날짜'], as_index=False)[['미세먼지(PM10)', '초미세먼지(PM25)']].mean()\n",
    "air_df_19[\"미세먼지(PM10)\"] = round(air_df_19[\"미세먼지(PM10)\"],2)\n",
    "air_df_19[\"초미세먼지(PM25)\"] = round(air_df_19[\"초미세먼지(PM25)\"],2)\n",
    "air_df_19.drop(columns=[\"구분\"],inplace = True)\n",
    "print(\"\\n**대중교통 운행 시간을 고려한 19년도 서울시 일별 미세먼지 데이터\")\n",
    "print(air_df_19)\n",
    "\n",
    "# 미세먼지 농도에 따라 좋음,보통,나쁨,매우나쁨 추가\n",
    "# 미세먼지(PM10) 기준(0~30: 좋음, 31~80: 보통, 81~150: 나쁨, 151이상: 매우나쁨)\n",
    "# 초미세먼지(PM25) 기준(0~15: 좋음, 16~35: 보통, 36~75: 나쁨, 76이상: 매우나쁨\n",
    "def categorize_pm10(value):\n",
    "    if value <= 30:\n",
    "        return \"좋음\"\n",
    "    elif value <= 80:\n",
    "        return \"보통\"\n",
    "    elif value <= 150:\n",
    "        return \"나쁨\"\n",
    "    else:\n",
    "        return \"매우나쁨\"\n",
    "def categorize_pm25(value):\n",
    "    if value <= 15:\n",
    "        return \"좋음\"\n",
    "    elif value <= 35:\n",
    "        return \"보통\"\n",
    "    elif value <= 75:\n",
    "        return \"나쁨\"\n",
    "    else:\n",
    "        return \"매우나쁨\"\n",
    "air_df_19[\"미세먼지 등급\"] = air_df_19[\"미세먼지(PM10)\"].apply(categorize_pm10)\n",
    "air_df_19[\"초미세먼지 등급\"] = air_df_19[\"초미세먼지(PM25)\"].apply(categorize_pm25)\n",
    "print(\"\\n**미세먼지 농도에 따라 범주화\")\n",
    "print(air_df_19)\n",
    "\n",
    "# 19년도 서울시 대중교통이용인원 데이터 준비\n",
    "transport_df_19 = pd.read_csv(\"2019_대중교통이용인원.csv\")\n",
    "transport_df_19['날짜'] = pd.to_datetime(transport_df_19['일'].str.split('(').str[0])\n",
    "transport_df_19 = transport_df_19.drop(columns=['일'])\n",
    "transport_df_19 = transport_df_19.drop(columns=['시도'])\n",
    "transport_df_19 = transport_df_19[['날짜', '합계']]\n",
    "transport_df_19.rename(columns={'합계': '대중교통이용인원'}, inplace=True)\n",
    "print(\"\\n**19년도 서울시 대중교통이용인원\")\n",
    "print(transport_df_19)\n",
    "\n",
    "# 미세먼지와 대중교통이용인원 데이터 병합\n",
    "air_df_19['날짜'] = pd.to_datetime(air_df_19['날짜'])\n",
    "transport_df_19['날짜'] = pd.to_datetime(transport_df_19['날짜'])\n",
    "air_transport_19 = pd.merge(air_df_19, transport_df_19, on='날짜', how='inner')\n",
    "print(\"\\n**미세먼지, 대중교통이용인원 데이터 병합\")\n",
    "print(air_transport_19)\n",
    "\n",
    "# 평일과 주말(토,일) 구분을 위한 요일 column, 요일 구분 column 추가\n",
    "air_transport_19['요일'] = air_transport_19['날짜'].dt.day_name(locale='ko_KR')\n",
    "print(\"\\n**평일과 주말(토,일)을 구분하기 위한 요일 column, 요일 구분 column추가\")\n",
    "air_transport_19['요일구분'] = air_transport_19['요일'].apply(lambda x: '주말' if x in ['토요일', '일요일'] else '평일')\n",
    "print(air_transport_19,\"\\n\")\n",
    "\n",
    "# 특정 공휴일(설 연휴, 추석 연휴, 신정)이 대중교통이용인원에 영향을 줄 것을 우려해 barplot을 통해 확인 후 판단\n",
    "# 설 연휴: 2019/02/05, 추석 연휴: 2019/9/13, 신정: 2019/01/01\n",
    "holidays = ['2019-02-05', '2019-09-13', '2019-01-01']\n",
    "holidays = pd.to_datetime(holidays)\n",
    "holiday_data = air_transport_19[air_transport_19['날짜'].isin(holidays)][['날짜', '대중교통이용인원']]\n",
    "average_non_holiday = air_transport_19[~air_transport_19['날짜'].isin(holidays)]['대중교통이용인원'].mean()\n",
    "bar_data = pd.DataFrame({'분류': ['설 연휴', '추석 연휴', '신정', '평균(공휴일 제외)'],\n",
    "    '대중교통이용인원': list(holiday_data['대중교통이용인원']) + [average_non_holiday]})\n",
    "sns.barplot(data = bar_data, x = \"분류\", y = \"대중교통이용인원\", palette=[\"red\",\"red\",\"red\",\"gray\"],hue=\"분류\",legend=False)\n",
    "max_value = bar_data['대중교통이용인원'].max()\n",
    "step = 500000  \n",
    "plt.yticks(ticks=range(0, int(max_value) + step, step),labels=[f'{x//10000}만' for x in range(0, int(max_value) + step, step)])\n",
    "plt.title(\"공휴일 대중교통 인원과 공휴일이 아닌 평균 대중교통 인원 비교\")\n",
    "plt.show()\n",
    "print(\"공휴일 평균 대중교통이용 인원:\",round(holiday_data[\"대중교통이용인원\"].mean()))\n",
    "print(\"공휴일이 아닌 평균 대중교통이용 인원:\",round(average_non_holiday))\n",
    "print(\"공휴일이 공휴일이 아닌 평균 대중교통 이용 인원의 약\",round(holiday_data[\"대중교통이용인원\"].mean()/(average_non_holiday),2),\n",
    "      \"배 이기 때문에 공휴일 데이터를 제외\\n\")\n",
    "# 공휴일을 데이터에서 제외\n",
    "air_transport_19 = air_transport_19[~air_transport_19['날짜'].isin(holidays)]\n",
    "\n",
    "# 출퇴근 여부가 대중교통인원에 주는 영향을 고려 해 평일과 주말 데이터를 분리\n",
    "\n",
    "# air_transport_19: 필터링한 미세먼지,대중교통이용인원 전체 데이터\n",
    "# air_transport_weekend_19: air_transport_19의 주말 데이터\n",
    "# air_transport_weekday_19: air_trnasport_19의 평일 데이터\n",
    "air_transport_weekend_19 = air_transport_19[air_transport_19[\"요일구분\"]==\"주말\"]\n",
    "air_transport_weekday_19 = air_transport_19[air_transport_19[\"요일구분\"]==\"평일\"]\n",
    "print(\"**주말 데이터\")\n",
    "print(air_transport_weekend_19)\n",
    "print(\"\\n**평일 데이터\")\n",
    "print(air_transport_weekday_19)"
   ]
  },
  {
   "cell_type": "code",
   "execution_count": 6,
   "id": "211279a8-c5ae-4d10-a243-ef9216aea2a4",
   "metadata": {},
   "outputs": [],
   "source": [
    "# Page3"
   ]
  },
  {
   "cell_type": "code",
   "execution_count": 7,
   "id": "49cf379a-823c-44f6-b5ed-279b483f9200",
   "metadata": {},
   "outputs": [],
   "source": [
    "# Page4"
   ]
  },
  {
   "cell_type": "code",
   "execution_count": 8,
   "id": "544e0b5e-a966-4542-b089-39f07e704f87",
   "metadata": {},
   "outputs": [],
   "source": [
    "# Page5"
   ]
  },
  {
   "cell_type": "code",
   "execution_count": 9,
   "id": "fef6b08c-7b08-4ae2-a820-56eac4807b34",
   "metadata": {},
   "outputs": [],
   "source": [
    "# Page6"
   ]
  },
  {
   "cell_type": "code",
   "execution_count": 10,
   "id": "d0fafec9-7b43-4733-93d7-f029d5b26db1",
   "metadata": {},
   "outputs": [],
   "source": [
    "# Page7"
   ]
  },
  {
   "cell_type": "code",
   "execution_count": 11,
   "id": "6544ede4-1cd6-44c0-a93a-c7dace9b4231",
   "metadata": {},
   "outputs": [],
   "source": [
    "# Page8"
   ]
  },
  {
   "cell_type": "code",
   "execution_count": 12,
   "id": "e53f541a-7f16-4f2c-bf03-0700395de1ed",
   "metadata": {},
   "outputs": [],
   "source": [
    "# Page9"
   ]
  },
  {
   "cell_type": "code",
   "execution_count": null,
   "id": "218ec3ad-e35f-4f49-bd22-79fa3b52d938",
   "metadata": {},
   "outputs": [],
   "source": []
  }
 ],
 "metadata": {
  "kernelspec": {
   "display_name": "Python 3.8.18 (sda2024)",
   "language": "python",
   "name": "sda2024"
  },
  "language_info": {
   "codemirror_mode": {
    "name": "ipython",
    "version": 3
   },
   "file_extension": ".py",
   "mimetype": "text/x-python",
   "name": "python",
   "nbconvert_exporter": "python",
   "pygments_lexer": "ipython3",
   "version": "3.8.18"
  },
  "nbdime-conflicts": {
   "local_diff": [
    {
     "diff": [
      {
       "diff": [
        {
         "key": 0,
         "op": "addrange",
         "valuelist": [
          "sda"
         ]
        },
        {
         "key": 0,
         "length": 1,
         "op": "removerange"
        }
       ],
       "key": "display_name",
       "op": "patch"
      }
     ],
     "key": "kernelspec",
     "op": "patch"
    }
   ],
   "remote_diff": [
    {
     "diff": [
      {
       "diff": [
        {
         "key": 0,
         "op": "addrange",
         "valuelist": [
          "Python 3.8.18 (sda2024)"
         ]
        },
        {
         "key": 0,
         "length": 1,
         "op": "removerange"
        }
       ],
       "key": "display_name",
       "op": "patch"
      }
     ],
     "key": "kernelspec",
     "op": "patch"
    }
   ]
  }
 },
 "nbformat": 4,
 "nbformat_minor": 5
}
