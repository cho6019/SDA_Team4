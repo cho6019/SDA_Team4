{
 "cells": [
  {
   "cell_type": "code",
   "execution_count": 1,
   "id": "04087187",
   "metadata": {},
   "outputs": [],
   "source": [
    "# SDA_과제#5_4조(신지운, 민영은, 장동규, 조민규)\n",
    "# ONLY PULL AND PUSH 'SDA.ipynb'!\n",
    "# 작업 후 Stash란 Summary에 성명을, Description에 작업 내용을 간단하게 요약해서 Commit 해주세요"
   ]
  },
  {
   "cell_type": "code",
   "execution_count": 1,
   "id": "3bd9c719",
   "metadata": {},
   "outputs": [],
   "source": [
    "# About Project\n",
    "# 프로젝트 목표 : 미세먼지 농도의 변화는 대중교통 이용률에 영향을 미치는가?\n",
    "\n",
    "# 각 Page별 목적을 여기에 간단히 정리해주세요\n",
    "# Page는 항상 EDA - 가설검정 - 회귀분석 순서로 내림차순 정렬을 유지해주세요\n",
    "\n",
    "# Page0 - 필요 패키지 설치\n",
    "# Page1 - \n",
    "# Page2 - \n",
    "# Page3 - \n",
    "# Page4 - \n",
    "# Page5 - \n",
    "# Page6 - \n",
    "# Page7 - \n",
    "# Page8 - \n",
    "# Page9 - "
   ]
  },
  {
   "cell_type": "code",
   "execution_count": 2,
   "id": "b9563ac6",
   "metadata": {},
   "outputs": [],
   "source": [
    "# Page0\n",
    "# import package here!\n",
    "\n",
    "import numpy as np\n",
    "import matplotlib.pyplot as plt\n",
    "import matplotlib as mpl\n",
    "import pandas as pd\n",
    "import seaborn as sns"
   ]
  },
  {
   "cell_type": "code",
   "execution_count": null,
   "id": "4ed3e220-2d73-465f-a995-f203938c8bde",
   "metadata": {},
   "outputs": [],
   "source": [
    "# Page1"
   ]
  },
  {
   "cell_type": "code",
   "execution_count": null,
   "id": "b1e26739-15b2-40f0-a6f9-dfdcd43c3614",
   "metadata": {},
   "outputs": [],
   "source": [
    "# Page2"
   ]
  },
  {
   "cell_type": "code",
   "execution_count": null,
   "id": "211279a8-c5ae-4d10-a243-ef9216aea2a4",
   "metadata": {},
   "outputs": [],
   "source": [
    "# Page3"
   ]
  },
  {
   "cell_type": "code",
   "execution_count": null,
   "id": "49cf379a-823c-44f6-b5ed-279b483f9200",
   "metadata": {},
   "outputs": [],
   "source": [
    "# Page4"
   ]
  },
  {
   "cell_type": "code",
   "execution_count": null,
   "id": "544e0b5e-a966-4542-b089-39f07e704f87",
   "metadata": {},
   "outputs": [],
   "source": [
    "# Page5"
   ]
  },
  {
   "cell_type": "code",
   "execution_count": null,
   "id": "fef6b08c-7b08-4ae2-a820-56eac4807b34",
   "metadata": {},
   "outputs": [],
   "source": [
    "# Page6"
   ]
  },
  {
   "cell_type": "code",
   "execution_count": null,
   "id": "d0fafec9-7b43-4733-93d7-f029d5b26db1",
   "metadata": {},
   "outputs": [],
   "source": [
    "# Page7"
   ]
  },
  {
   "cell_type": "code",
   "execution_count": null,
   "id": "6544ede4-1cd6-44c0-a93a-c7dace9b4231",
   "metadata": {},
   "outputs": [],
   "source": [
    "# Page8"
   ]
  },
  {
   "cell_type": "code",
   "execution_count": null,
   "id": "e53f541a-7f16-4f2c-bf03-0700395de1ed",
   "metadata": {},
   "outputs": [],
   "source": [
    "# Page9"
   ]
  },
  {
   "cell_type": "code",
   "execution_count": null,
   "id": "218ec3ad-e35f-4f49-bd22-79fa3b52d938",
   "metadata": {},
   "outputs": [],
   "source": []
  }
 ],
 "metadata": {
  "kernelspec": {
   "display_name": "sda2024",
   "language": "python",
   "name": "sda2024"
  },
  "language_info": {
   "codemirror_mode": {
    "name": "ipython",
    "version": 3
   },
   "file_extension": ".py",
   "mimetype": "text/x-python",
   "name": "python",
   "nbconvert_exporter": "python",
   "pygments_lexer": "ipython3",
   "version": "3.8.18"
  },
  "nbdime-conflicts": {
   "local_diff": [
    {
     "diff": [
      {
       "diff": [
        {
         "key": 0,
         "op": "addrange",
         "valuelist": [
          "sda"
         ]
        },
        {
         "key": 0,
         "length": 1,
         "op": "removerange"
        }
       ],
       "key": "display_name",
       "op": "patch"
      }
     ],
     "key": "kernelspec",
     "op": "patch"
    }
   ],
   "remote_diff": [
    {
     "diff": [
      {
       "diff": [
        {
         "key": 0,
         "op": "addrange",
         "valuelist": [
          "Python 3.8.18 (sda2024)"
         ]
        },
        {
         "key": 0,
         "length": 1,
         "op": "removerange"
        }
       ],
       "key": "display_name",
       "op": "patch"
      }
     ],
     "key": "kernelspec",
     "op": "patch"
    }
   ]
  }
 },
 "nbformat": 4,
 "nbformat_minor": 5
}
